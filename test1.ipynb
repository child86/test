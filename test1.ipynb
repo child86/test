{
  "nbformat": 4,
  "nbformat_minor": 0,
  "metadata": {
    "colab": {
      "name": "test1.ipynb",
      "provenance": [],
      "collapsed_sections": [],
      "authorship_tag": "ABX9TyPhwLgoz59/cRGdpTpFz0lx",
      "include_colab_link": true
    },
    "kernelspec": {
      "name": "python3",
      "display_name": "Python 3"
    },
    "language_info": {
      "name": "python"
    }
  },
  "cells": [
    {
      "cell_type": "markdown",
      "metadata": {
        "id": "view-in-github",
        "colab_type": "text"
      },
      "source": [
        "<a href=\"https://colab.research.google.com/github/child86/test/blob/main/test1.ipynb\" target=\"_parent\"><img src=\"https://colab.research.google.com/assets/colab-badge.svg\" alt=\"Open In Colab\"/></a>"
      ]
    },
    {
      "cell_type": "code",
      "execution_count": 7,
      "metadata": {
        "id": "MDSjIR_2xLaW",
        "colab": {
          "base_uri": "https://localhost:8080/"
        },
        "outputId": "82068d2e-4b61-492f-8990-f156eeac6276"
      },
      "outputs": [
        {
          "output_type": "stream",
          "name": "stdout",
          "text": [
            "bye world\n",
            "tests\n",
            "tststst\n"
          ]
        }
      ],
      "source": [
        "print(\"bye world\")\n",
        "print('''tests\n",
        "tststst''')"
      ]
    },
    {
      "cell_type": "code",
      "source": [
        "# !pip install import_ipynb\n",
        "import import_ipynb\n",
        "# import hello_3\n",
        "!pwd\n",
        "!ls\n",
        "# from google.colab import drive\n",
        "# drive.mount('/content/drive')\n",
        "\n",
        "!pwd\n",
        "!ls\n",
        "print('경로이동')\n",
        "# %cd MyDrive/test\n",
        "!pwd\n",
        "!ls\n",
        "\n",
        "import hello_3\n",
        "hello_3.DoubleHello()\n",
        "\n",
        "import math\n",
        "print(math.ceil(3.14))\n",
        "print(math.floor(3.14))\n",
        "print(round(3.14))\n",
        "print(int(3.54))"
      ],
      "metadata": {
        "colab": {
          "base_uri": "https://localhost:8080/"
        },
        "id": "jqGgrJFWxWjH",
        "outputId": "e08b607a-e822-4152-c14a-00b16a562581"
      },
      "execution_count": 28,
      "outputs": [
        {
          "output_type": "stream",
          "name": "stdout",
          "text": [
            "/content/drive/MyDrive/test\n",
            "hello_3.ipynb  test1.ipynb  Untitled0.ipynb\n",
            "/content/drive/MyDrive/test\n",
            "hello_3.ipynb  test1.ipynb  Untitled0.ipynb\n",
            "경로이동\n",
            "/content/drive/MyDrive/test\n",
            "hello_3.ipynb  test1.ipynb  Untitled0.ipynb\n",
            "Hello World\n",
            "Hello World\n",
            "4\n",
            "3\n",
            "3\n",
            "3\n"
          ]
        }
      ]
    }
  ]
}