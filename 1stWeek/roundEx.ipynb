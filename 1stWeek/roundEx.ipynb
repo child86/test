{
  "nbformat": 4,
  "nbformat_minor": 0,
  "metadata": {
    "colab": {
      "name": "roundEx.ipynb",
      "provenance": [],
      "authorship_tag": "ABX9TyOgY2ImyXjtwFeDYlstLnxj",
      "include_colab_link": true
    },
    "kernelspec": {
      "name": "python3",
      "display_name": "Python 3"
    },
    "language_info": {
      "name": "python"
    }
  },
  "cells": [
    {
      "cell_type": "markdown",
      "metadata": {
        "id": "view-in-github",
        "colab_type": "text"
      },
      "source": [
        "<a href=\"https://colab.research.google.com/github/child86/test/blob/main/1stWeek/roundEx.ipynb\" target=\"_parent\"><img src=\"https://colab.research.google.com/assets/colab-badge.svg\" alt=\"Open In Colab\"/></a>"
      ]
    },
    {
      "cell_type": "code",
      "execution_count": 1,
      "metadata": {
        "colab": {
          "base_uri": "https://localhost:8080/"
        },
        "id": "hO7HyWxJ0HV6",
        "outputId": "2ee278f4-7fbd-4b48-98c1-f992353b0f6a"
      },
      "outputs": [
        {
          "output_type": "stream",
          "name": "stdout",
          "text": [
            "4\n"
          ]
        }
      ],
      "source": [
        "import math\n",
        "\n",
        "ceil_result=math.ceil(3.14)\n",
        "print(ceil_result)"
      ]
    }
  ]
}